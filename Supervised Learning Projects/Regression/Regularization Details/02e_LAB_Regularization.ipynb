{
  "cells": [
    {
      "cell_type": "markdown",
      "metadata": {
        "id": "vNi18c1Qy45I"
      },
      "source": [
        "# Machine Learning Foundation\n",
        "\n",
        "## Section 2, Part e: Regularization LAB\n"
      ]
    },
    {
      "cell_type": "markdown",
      "metadata": {
        "id": "1PexydVMy45J"
      },
      "source": [
        "## Learning objectives\n",
        "\n",
        "By the end of this lesson, you will be able to:\n",
        "\n",
        "*   Implement data standardization\n",
        "*   Implement variants of regularized regression\n",
        "*   Combine data standardization with the train-test split procedure\n",
        "*   Implement regularization to prevent overfitting in regression problems\n"
      ]
    },
    {
      "cell_type": "code",
      "execution_count": 11,
      "metadata": {
        "id": "gUCDRYpLy45K"
      },
      "outputs": [],
      "source": [
        "import numpy as np\n",
        "import pandas as pd\n",
        "import matplotlib.pyplot as plt\n",
        "%matplotlib inline\n",
        "\n",
        "# Surpress warnings:\n",
        "def warn(*args, **kwargs):\n",
        "    pass\n",
        "import warnings\n",
        "warnings.warn = warn\n",
        "\n",
        "np.set_printoptions(precision=3, suppress=True)"
      ]
    },
    {
      "cell_type": "markdown",
      "metadata": {
        "id": "yDx2VMjPy45K"
      },
      "source": [
        "In the following cell we load the data and define some useful plotting functions.\n"
      ]
    },
    {
      "cell_type": "code",
      "execution_count": 12,
      "metadata": {
        "id": "FONsv7cQy45M"
      },
      "outputs": [],
      "source": [
        "np.random.seed(72018)\n",
        "\n",
        "\n",
        "def to_2d(array):\n",
        "    return array.reshape(array.shape[0], -1)\n",
        "\n",
        "def boston_dataframe():\n",
        "    data = pd.read_csv(\"https://github.com/selva86/datasets/blob/master/BostonHousing.csv\")\n",
        "\n",
        "\n",
        "\n",
        "    return pd.DataFrame(data=data, columns=data.columns)\n",
        "\n",
        "def plot_exponential_data():\n",
        "    data = np.exp(np.random.normal(size=1000))\n",
        "    plt.hist(data)\n",
        "    plt.show()\n",
        "    return data\n",
        "\n",
        "def plot_square_normal_data():\n",
        "    data = np.square(np.random.normal(loc=5, size=1000))\n",
        "    plt.hist(data)\n",
        "    plt.show()\n",
        "    return data"
      ]
    },
    {
      "cell_type": "markdown",
      "metadata": {
        "id": "RLUFmuLRy45N"
      },
      "source": [
        "### Loading in Boston Data\n"
      ]
    },
    {
      "cell_type": "code",
      "execution_count": 18,
      "metadata": {
        "colab": {
          "base_uri": "https://localhost:8080/",
          "height": 206
        },
        "id": "NhLP4QgPy45N",
        "outputId": "e5f6a4af-d58e-41e2-b531-a4afe711f25f"
      },
      "outputs": [
        {
          "output_type": "execute_result",
          "data": {
            "text/plain": [
              "      crim    zn  indus  chas    nox     rm   age     dis  rad  tax  ptratio  \\\n",
              "0  0.00632  18.0   2.31     0  0.538  6.575  65.2  4.0900    1  296     15.3   \n",
              "1  0.02731   0.0   7.07     0  0.469  6.421  78.9  4.9671    2  242     17.8   \n",
              "2  0.02729   0.0   7.07     0  0.469  7.185  61.1  4.9671    2  242     17.8   \n",
              "3  0.03237   0.0   2.18     0  0.458  6.998  45.8  6.0622    3  222     18.7   \n",
              "4  0.06905   0.0   2.18     0  0.458  7.147  54.2  6.0622    3  222     18.7   \n",
              "\n",
              "        b  lstat  medv  \n",
              "0  396.90   4.98  24.0  \n",
              "1  396.90   9.14  21.6  \n",
              "2  392.83   4.03  34.7  \n",
              "3  394.63   2.94  33.4  \n",
              "4  396.90   5.33  36.2  "
            ],
            "text/html": [
              "\n",
              "  <div id=\"df-ce316a4e-c429-4f45-bf12-c0efb1d3d47c\" class=\"colab-df-container\">\n",
              "    <div>\n",
              "<style scoped>\n",
              "    .dataframe tbody tr th:only-of-type {\n",
              "        vertical-align: middle;\n",
              "    }\n",
              "\n",
              "    .dataframe tbody tr th {\n",
              "        vertical-align: top;\n",
              "    }\n",
              "\n",
              "    .dataframe thead th {\n",
              "        text-align: right;\n",
              "    }\n",
              "</style>\n",
              "<table border=\"1\" class=\"dataframe\">\n",
              "  <thead>\n",
              "    <tr style=\"text-align: right;\">\n",
              "      <th></th>\n",
              "      <th>crim</th>\n",
              "      <th>zn</th>\n",
              "      <th>indus</th>\n",
              "      <th>chas</th>\n",
              "      <th>nox</th>\n",
              "      <th>rm</th>\n",
              "      <th>age</th>\n",
              "      <th>dis</th>\n",
              "      <th>rad</th>\n",
              "      <th>tax</th>\n",
              "      <th>ptratio</th>\n",
              "      <th>b</th>\n",
              "      <th>lstat</th>\n",
              "      <th>medv</th>\n",
              "    </tr>\n",
              "  </thead>\n",
              "  <tbody>\n",
              "    <tr>\n",
              "      <th>0</th>\n",
              "      <td>0.00632</td>\n",
              "      <td>18.0</td>\n",
              "      <td>2.31</td>\n",
              "      <td>0</td>\n",
              "      <td>0.538</td>\n",
              "      <td>6.575</td>\n",
              "      <td>65.2</td>\n",
              "      <td>4.0900</td>\n",
              "      <td>1</td>\n",
              "      <td>296</td>\n",
              "      <td>15.3</td>\n",
              "      <td>396.90</td>\n",
              "      <td>4.98</td>\n",
              "      <td>24.0</td>\n",
              "    </tr>\n",
              "    <tr>\n",
              "      <th>1</th>\n",
              "      <td>0.02731</td>\n",
              "      <td>0.0</td>\n",
              "      <td>7.07</td>\n",
              "      <td>0</td>\n",
              "      <td>0.469</td>\n",
              "      <td>6.421</td>\n",
              "      <td>78.9</td>\n",
              "      <td>4.9671</td>\n",
              "      <td>2</td>\n",
              "      <td>242</td>\n",
              "      <td>17.8</td>\n",
              "      <td>396.90</td>\n",
              "      <td>9.14</td>\n",
              "      <td>21.6</td>\n",
              "    </tr>\n",
              "    <tr>\n",
              "      <th>2</th>\n",
              "      <td>0.02729</td>\n",
              "      <td>0.0</td>\n",
              "      <td>7.07</td>\n",
              "      <td>0</td>\n",
              "      <td>0.469</td>\n",
              "      <td>7.185</td>\n",
              "      <td>61.1</td>\n",
              "      <td>4.9671</td>\n",
              "      <td>2</td>\n",
              "      <td>242</td>\n",
              "      <td>17.8</td>\n",
              "      <td>392.83</td>\n",
              "      <td>4.03</td>\n",
              "      <td>34.7</td>\n",
              "    </tr>\n",
              "    <tr>\n",
              "      <th>3</th>\n",
              "      <td>0.03237</td>\n",
              "      <td>0.0</td>\n",
              "      <td>2.18</td>\n",
              "      <td>0</td>\n",
              "      <td>0.458</td>\n",
              "      <td>6.998</td>\n",
              "      <td>45.8</td>\n",
              "      <td>6.0622</td>\n",
              "      <td>3</td>\n",
              "      <td>222</td>\n",
              "      <td>18.7</td>\n",
              "      <td>394.63</td>\n",
              "      <td>2.94</td>\n",
              "      <td>33.4</td>\n",
              "    </tr>\n",
              "    <tr>\n",
              "      <th>4</th>\n",
              "      <td>0.06905</td>\n",
              "      <td>0.0</td>\n",
              "      <td>2.18</td>\n",
              "      <td>0</td>\n",
              "      <td>0.458</td>\n",
              "      <td>7.147</td>\n",
              "      <td>54.2</td>\n",
              "      <td>6.0622</td>\n",
              "      <td>3</td>\n",
              "      <td>222</td>\n",
              "      <td>18.7</td>\n",
              "      <td>396.90</td>\n",
              "      <td>5.33</td>\n",
              "      <td>36.2</td>\n",
              "    </tr>\n",
              "  </tbody>\n",
              "</table>\n",
              "</div>\n",
              "    <div class=\"colab-df-buttons\">\n",
              "\n",
              "  <div class=\"colab-df-container\">\n",
              "    <button class=\"colab-df-convert\" onclick=\"convertToInteractive('df-ce316a4e-c429-4f45-bf12-c0efb1d3d47c')\"\n",
              "            title=\"Convert this dataframe to an interactive table.\"\n",
              "            style=\"display:none;\">\n",
              "\n",
              "  <svg xmlns=\"http://www.w3.org/2000/svg\" height=\"24px\" viewBox=\"0 -960 960 960\">\n",
              "    <path d=\"M120-120v-720h720v720H120Zm60-500h600v-160H180v160Zm220 220h160v-160H400v160Zm0 220h160v-160H400v160ZM180-400h160v-160H180v160Zm440 0h160v-160H620v160ZM180-180h160v-160H180v160Zm440 0h160v-160H620v160Z\"/>\n",
              "  </svg>\n",
              "    </button>\n",
              "\n",
              "  <style>\n",
              "    .colab-df-container {\n",
              "      display:flex;\n",
              "      gap: 12px;\n",
              "    }\n",
              "\n",
              "    .colab-df-convert {\n",
              "      background-color: #E8F0FE;\n",
              "      border: none;\n",
              "      border-radius: 50%;\n",
              "      cursor: pointer;\n",
              "      display: none;\n",
              "      fill: #1967D2;\n",
              "      height: 32px;\n",
              "      padding: 0 0 0 0;\n",
              "      width: 32px;\n",
              "    }\n",
              "\n",
              "    .colab-df-convert:hover {\n",
              "      background-color: #E2EBFA;\n",
              "      box-shadow: 0px 1px 2px rgba(60, 64, 67, 0.3), 0px 1px 3px 1px rgba(60, 64, 67, 0.15);\n",
              "      fill: #174EA6;\n",
              "    }\n",
              "\n",
              "    .colab-df-buttons div {\n",
              "      margin-bottom: 4px;\n",
              "    }\n",
              "\n",
              "    [theme=dark] .colab-df-convert {\n",
              "      background-color: #3B4455;\n",
              "      fill: #D2E3FC;\n",
              "    }\n",
              "\n",
              "    [theme=dark] .colab-df-convert:hover {\n",
              "      background-color: #434B5C;\n",
              "      box-shadow: 0px 1px 3px 1px rgba(0, 0, 0, 0.15);\n",
              "      filter: drop-shadow(0px 1px 2px rgba(0, 0, 0, 0.3));\n",
              "      fill: #FFFFFF;\n",
              "    }\n",
              "  </style>\n",
              "\n",
              "    <script>\n",
              "      const buttonEl =\n",
              "        document.querySelector('#df-ce316a4e-c429-4f45-bf12-c0efb1d3d47c button.colab-df-convert');\n",
              "      buttonEl.style.display =\n",
              "        google.colab.kernel.accessAllowed ? 'block' : 'none';\n",
              "\n",
              "      async function convertToInteractive(key) {\n",
              "        const element = document.querySelector('#df-ce316a4e-c429-4f45-bf12-c0efb1d3d47c');\n",
              "        const dataTable =\n",
              "          await google.colab.kernel.invokeFunction('convertToInteractive',\n",
              "                                                    [key], {});\n",
              "        if (!dataTable) return;\n",
              "\n",
              "        const docLinkHtml = 'Like what you see? Visit the ' +\n",
              "          '<a target=\"_blank\" href=https://colab.research.google.com/notebooks/data_table.ipynb>data table notebook</a>'\n",
              "          + ' to learn more about interactive tables.';\n",
              "        element.innerHTML = '';\n",
              "        dataTable['output_type'] = 'display_data';\n",
              "        await google.colab.output.renderOutput(dataTable, element);\n",
              "        const docLink = document.createElement('div');\n",
              "        docLink.innerHTML = docLinkHtml;\n",
              "        element.appendChild(docLink);\n",
              "      }\n",
              "    </script>\n",
              "  </div>\n",
              "\n",
              "\n",
              "<div id=\"df-dd6f445a-75d4-49c6-a632-7ba567e28c7e\">\n",
              "  <button class=\"colab-df-quickchart\" onclick=\"quickchart('df-dd6f445a-75d4-49c6-a632-7ba567e28c7e')\"\n",
              "            title=\"Suggest charts.\"\n",
              "            style=\"display:none;\">\n",
              "\n",
              "<svg xmlns=\"http://www.w3.org/2000/svg\" height=\"24px\"viewBox=\"0 0 24 24\"\n",
              "     width=\"24px\">\n",
              "    <g>\n",
              "        <path d=\"M19 3H5c-1.1 0-2 .9-2 2v14c0 1.1.9 2 2 2h14c1.1 0 2-.9 2-2V5c0-1.1-.9-2-2-2zM9 17H7v-7h2v7zm4 0h-2V7h2v10zm4 0h-2v-4h2v4z\"/>\n",
              "    </g>\n",
              "</svg>\n",
              "  </button>\n",
              "\n",
              "<style>\n",
              "  .colab-df-quickchart {\n",
              "    background-color: #E8F0FE;\n",
              "    border: none;\n",
              "    border-radius: 50%;\n",
              "    cursor: pointer;\n",
              "    display: none;\n",
              "    fill: #1967D2;\n",
              "    height: 32px;\n",
              "    padding: 0 0 0 0;\n",
              "    width: 32px;\n",
              "  }\n",
              "\n",
              "  .colab-df-quickchart:hover {\n",
              "    background-color: #E2EBFA;\n",
              "    box-shadow: 0px 1px 2px rgba(60, 64, 67, 0.3), 0px 1px 3px 1px rgba(60, 64, 67, 0.15);\n",
              "    fill: #174EA6;\n",
              "  }\n",
              "\n",
              "  [theme=dark] .colab-df-quickchart {\n",
              "    background-color: #3B4455;\n",
              "    fill: #D2E3FC;\n",
              "  }\n",
              "\n",
              "  [theme=dark] .colab-df-quickchart:hover {\n",
              "    background-color: #434B5C;\n",
              "    box-shadow: 0px 1px 3px 1px rgba(0, 0, 0, 0.15);\n",
              "    filter: drop-shadow(0px 1px 2px rgba(0, 0, 0, 0.3));\n",
              "    fill: #FFFFFF;\n",
              "  }\n",
              "</style>\n",
              "\n",
              "  <script>\n",
              "    async function quickchart(key) {\n",
              "      const charts = await google.colab.kernel.invokeFunction(\n",
              "          'suggestCharts', [key], {});\n",
              "    }\n",
              "    (() => {\n",
              "      let quickchartButtonEl =\n",
              "        document.querySelector('#df-dd6f445a-75d4-49c6-a632-7ba567e28c7e button');\n",
              "      quickchartButtonEl.style.display =\n",
              "        google.colab.kernel.accessAllowed ? 'block' : 'none';\n",
              "    })();\n",
              "  </script>\n",
              "</div>\n",
              "    </div>\n",
              "  </div>\n"
            ]
          },
          "metadata": {},
          "execution_count": 18
        }
      ],
      "source": [
        "boston_data = pd.read_csv(\"https://raw.githubusercontent.com/selva86/datasets/master/BostonHousing.csv\")\n",
        "boston_data.head()"
      ]
    },
    {
      "cell_type": "markdown",
      "metadata": {
        "id": "T3Ydt5d6y45N"
      },
      "source": [
        "## Data standardization\n"
      ]
    },
    {
      "cell_type": "markdown",
      "metadata": {
        "id": "gAoCUoIzy45O"
      },
      "source": [
        "**Standardizing** data refers to transforming each variable so that it more closely follows a **standard** normal distribution, with mean 0 and standard deviation 1.\n",
        "\n",
        "The [`StandardScaler`](http://scikit-learn.org/dev/modules/generated/sklearn.preprocessing.StandardScaler.html?utm_medium=Exinfluencer&utm_source=Exinfluencer&utm_content=000026UJ&utm_term=10006555&utm_id=NA-SkillsNetwork-Channel-SkillsNetworkCoursesIBMML240ENSkillsNetwork34171862-2022-01-01#sklearn.preprocessing.StandardScaler) object in SciKit Learn can do this.\n"
      ]
    },
    {
      "cell_type": "markdown",
      "metadata": {
        "id": "O6m6P3q-y45P"
      },
      "source": [
        "**Generate X and y**:\n"
      ]
    },
    {
      "cell_type": "code",
      "execution_count": 19,
      "metadata": {
        "id": "EuG8-rHey45Q"
      },
      "outputs": [],
      "source": [
        "y_col = \"medv\"\n",
        "\n",
        "X = boston_data.drop(y_col, axis=1)\n",
        "y = boston_data[y_col]"
      ]
    },
    {
      "cell_type": "markdown",
      "metadata": {
        "id": "Ombl-rney45Q"
      },
      "source": [
        "**Import, fit, and transform using `StandardScaler`**\n"
      ]
    },
    {
      "cell_type": "code",
      "execution_count": 20,
      "metadata": {
        "id": "DBBVge-gy45Q"
      },
      "outputs": [],
      "source": [
        "from sklearn.preprocessing import StandardScaler\n",
        "\n",
        "s = StandardScaler()\n",
        "X_ss = s.fit_transform(X)"
      ]
    },
    {
      "cell_type": "markdown",
      "metadata": {
        "id": "WaS1QNrKy45R"
      },
      "source": [
        "### Exercise:\n",
        "\n",
        "Confirm standard scaling\n"
      ]
    },
    {
      "cell_type": "markdown",
      "metadata": {
        "id": "sZUQ9oj8y45R"
      },
      "source": [
        "Hint:\n"
      ]
    },
    {
      "cell_type": "code",
      "execution_count": 21,
      "metadata": {
        "colab": {
          "base_uri": "https://localhost:8080/"
        },
        "id": "h7gfQh1zy45R",
        "outputId": "50672238-4c37-4c53-c494-b341d1f306fd"
      },
      "outputs": [
        {
          "output_type": "stream",
          "name": "stdout",
          "text": [
            "[[1 2 3]\n",
            " [4 5 6]]\n"
          ]
        }
      ],
      "source": [
        "a = np.array([[1, 2, 3],\n",
        "              [4, 5, 6]])\n",
        "print(a) # 2 rows, 3 columns"
      ]
    },
    {
      "cell_type": "code",
      "execution_count": 22,
      "metadata": {
        "colab": {
          "base_uri": "https://localhost:8080/"
        },
        "id": "EKmuDzUjy45R",
        "outputId": "b33a287e-2f62-482c-9f63-1749632fc36c"
      },
      "outputs": [
        {
          "output_type": "execute_result",
          "data": {
            "text/plain": [
              "array([2.5, 3.5, 4.5])"
            ]
          },
          "metadata": {},
          "execution_count": 22
        }
      ],
      "source": [
        "a.mean(axis=0) # mean along the *columns*"
      ]
    },
    {
      "cell_type": "code",
      "execution_count": 23,
      "metadata": {
        "colab": {
          "base_uri": "https://localhost:8080/"
        },
        "id": "ZKt9Sw_ly45S",
        "outputId": "737a5e63-c58f-4e25-8f9b-c8e2372414f1"
      },
      "outputs": [
        {
          "output_type": "execute_result",
          "data": {
            "text/plain": [
              "array([2., 5.])"
            ]
          },
          "metadata": {},
          "execution_count": 23
        }
      ],
      "source": [
        "a.mean(axis=1) # mean along the *rows*"
      ]
    },
    {
      "cell_type": "code",
      "execution_count": 24,
      "metadata": {
        "colab": {
          "base_uri": "https://localhost:8080/"
        },
        "id": "GmEPqHZJy45S",
        "outputId": "06a49f02-7e53-4941-f601-74f055118887"
      },
      "outputs": [
        {
          "output_type": "execute_result",
          "data": {
            "text/plain": [
              "True"
            ]
          },
          "metadata": {},
          "execution_count": 24
        }
      ],
      "source": [
        "### BEGIN SOLUTION\n",
        "X2 = np.array(X)\n",
        "man_transform = (X2-X2.mean(axis=0))/X2.std(axis=0)\n",
        "np.allclose(man_transform, X_ss)\n",
        "### END SOLUTION"
      ]
    },
    {
      "cell_type": "markdown",
      "metadata": {
        "id": "hRS3pCWpy45S"
      },
      "source": [
        "### Coefficients with and without scaling\n"
      ]
    },
    {
      "cell_type": "code",
      "execution_count": 25,
      "metadata": {
        "id": "tQ1HMl8cy45S"
      },
      "outputs": [],
      "source": [
        "from sklearn.linear_model import LinearRegression"
      ]
    },
    {
      "cell_type": "code",
      "execution_count": 28,
      "metadata": {
        "id": "M30AwKk9y45S"
      },
      "outputs": [],
      "source": [
        "lr = LinearRegression()\n",
        "\n",
        "y_col = \"medv\"\n",
        "\n",
        "X = boston_data.drop(y_col, axis=1)\n",
        "y = boston_data[y_col]"
      ]
    },
    {
      "cell_type": "code",
      "execution_count": 29,
      "metadata": {
        "colab": {
          "base_uri": "https://localhost:8080/"
        },
        "id": "mfJU1U_zy45T",
        "outputId": "f7c792b2-482e-4c82-af2c-0588834e654e"
      },
      "outputs": [
        {
          "output_type": "stream",
          "name": "stdout",
          "text": [
            "[ -0.108   0.046   0.021   2.687 -17.767   3.81    0.001  -1.476   0.306\n",
            "  -0.012  -0.953   0.009  -0.525]\n"
          ]
        }
      ],
      "source": [
        "lr.fit(X, y)\n",
        "print(lr.coef_) # min = -18"
      ]
    },
    {
      "cell_type": "markdown",
      "metadata": {
        "id": "O9NwO6j4y45T"
      },
      "source": [
        "#### Discussion (together):\n",
        "\n",
        "The coefficients are on widely different scales. Is this \"bad\"?\n"
      ]
    },
    {
      "cell_type": "code",
      "execution_count": 30,
      "metadata": {
        "id": "V-cEl-51y45T"
      },
      "outputs": [],
      "source": [
        "from sklearn.preprocessing import StandardScaler"
      ]
    },
    {
      "cell_type": "code",
      "execution_count": 31,
      "metadata": {
        "id": "w84G6-Eby45T"
      },
      "outputs": [],
      "source": [
        "s = StandardScaler()\n",
        "X_ss = s.fit_transform(X)"
      ]
    },
    {
      "cell_type": "code",
      "execution_count": 32,
      "metadata": {
        "colab": {
          "base_uri": "https://localhost:8080/"
        },
        "id": "V6mkmokCy45U",
        "outputId": "1c68ca1a-a4de-4c94-a2cb-64d2b80dbce1"
      },
      "outputs": [
        {
          "output_type": "stream",
          "name": "stdout",
          "text": [
            "[-0.928  1.082  0.141  0.682 -2.057  2.674  0.019 -3.104  2.662 -2.077\n",
            " -2.061  0.849 -3.744]\n"
          ]
        }
      ],
      "source": [
        "lr2 = LinearRegression()\n",
        "lr2.fit(X_ss, y)\n",
        "print(lr2.coef_) # coefficients now \"on the same scale\""
      ]
    },
    {
      "cell_type": "markdown",
      "metadata": {
        "id": "lnmnbjhsy45U"
      },
      "source": [
        "### Exercise:\n",
        "\n",
        "Based on these results, what is the most \"impactful\" feature (this is intended to be slightly ambiguous)? \"In what direction\" does it affect \"y\"?\n",
        "\n",
        "**Hint:** Recall from last week that we can \"zip up\" the names of the features of a DataFrame `df` with a model `model` fitted on that DataFrame using:\n",
        "\n",
        "```python\n",
        "dict(zip(df.columns.values, model.coef_))\n",
        "```\n"
      ]
    },
    {
      "cell_type": "code",
      "execution_count": 33,
      "metadata": {
        "colab": {
          "base_uri": "https://localhost:8080/",
          "height": 457
        },
        "id": "MGzJi9bey45U",
        "outputId": "f5096868-a72a-461e-ee82-33fedc12b2a3"
      },
      "outputs": [
        {
          "output_type": "execute_result",
          "data": {
            "text/plain": [
              "          0         1\n",
              "12    lstat -3.743627\n",
              "7       dis -3.104044\n",
              "9       tax -2.076782\n",
              "10  ptratio -2.060607\n",
              "4       nox -2.056718\n",
              "0      crim -0.928146\n",
              "6       age  0.019466\n",
              "2     indus  0.140900\n",
              "3      chas  0.681740\n",
              "11        b  0.849268\n",
              "1        zn  1.081569\n",
              "8       rad  2.662218\n",
              "5        rm  2.674230"
            ],
            "text/html": [
              "\n",
              "  <div id=\"df-18ed9999-521a-412a-af8b-687d3b216c7d\" class=\"colab-df-container\">\n",
              "    <div>\n",
              "<style scoped>\n",
              "    .dataframe tbody tr th:only-of-type {\n",
              "        vertical-align: middle;\n",
              "    }\n",
              "\n",
              "    .dataframe tbody tr th {\n",
              "        vertical-align: top;\n",
              "    }\n",
              "\n",
              "    .dataframe thead th {\n",
              "        text-align: right;\n",
              "    }\n",
              "</style>\n",
              "<table border=\"1\" class=\"dataframe\">\n",
              "  <thead>\n",
              "    <tr style=\"text-align: right;\">\n",
              "      <th></th>\n",
              "      <th>0</th>\n",
              "      <th>1</th>\n",
              "    </tr>\n",
              "  </thead>\n",
              "  <tbody>\n",
              "    <tr>\n",
              "      <th>12</th>\n",
              "      <td>lstat</td>\n",
              "      <td>-3.743627</td>\n",
              "    </tr>\n",
              "    <tr>\n",
              "      <th>7</th>\n",
              "      <td>dis</td>\n",
              "      <td>-3.104044</td>\n",
              "    </tr>\n",
              "    <tr>\n",
              "      <th>9</th>\n",
              "      <td>tax</td>\n",
              "      <td>-2.076782</td>\n",
              "    </tr>\n",
              "    <tr>\n",
              "      <th>10</th>\n",
              "      <td>ptratio</td>\n",
              "      <td>-2.060607</td>\n",
              "    </tr>\n",
              "    <tr>\n",
              "      <th>4</th>\n",
              "      <td>nox</td>\n",
              "      <td>-2.056718</td>\n",
              "    </tr>\n",
              "    <tr>\n",
              "      <th>0</th>\n",
              "      <td>crim</td>\n",
              "      <td>-0.928146</td>\n",
              "    </tr>\n",
              "    <tr>\n",
              "      <th>6</th>\n",
              "      <td>age</td>\n",
              "      <td>0.019466</td>\n",
              "    </tr>\n",
              "    <tr>\n",
              "      <th>2</th>\n",
              "      <td>indus</td>\n",
              "      <td>0.140900</td>\n",
              "    </tr>\n",
              "    <tr>\n",
              "      <th>3</th>\n",
              "      <td>chas</td>\n",
              "      <td>0.681740</td>\n",
              "    </tr>\n",
              "    <tr>\n",
              "      <th>11</th>\n",
              "      <td>b</td>\n",
              "      <td>0.849268</td>\n",
              "    </tr>\n",
              "    <tr>\n",
              "      <th>1</th>\n",
              "      <td>zn</td>\n",
              "      <td>1.081569</td>\n",
              "    </tr>\n",
              "    <tr>\n",
              "      <th>8</th>\n",
              "      <td>rad</td>\n",
              "      <td>2.662218</td>\n",
              "    </tr>\n",
              "    <tr>\n",
              "      <th>5</th>\n",
              "      <td>rm</td>\n",
              "      <td>2.674230</td>\n",
              "    </tr>\n",
              "  </tbody>\n",
              "</table>\n",
              "</div>\n",
              "    <div class=\"colab-df-buttons\">\n",
              "\n",
              "  <div class=\"colab-df-container\">\n",
              "    <button class=\"colab-df-convert\" onclick=\"convertToInteractive('df-18ed9999-521a-412a-af8b-687d3b216c7d')\"\n",
              "            title=\"Convert this dataframe to an interactive table.\"\n",
              "            style=\"display:none;\">\n",
              "\n",
              "  <svg xmlns=\"http://www.w3.org/2000/svg\" height=\"24px\" viewBox=\"0 -960 960 960\">\n",
              "    <path d=\"M120-120v-720h720v720H120Zm60-500h600v-160H180v160Zm220 220h160v-160H400v160Zm0 220h160v-160H400v160ZM180-400h160v-160H180v160Zm440 0h160v-160H620v160ZM180-180h160v-160H180v160Zm440 0h160v-160H620v160Z\"/>\n",
              "  </svg>\n",
              "    </button>\n",
              "\n",
              "  <style>\n",
              "    .colab-df-container {\n",
              "      display:flex;\n",
              "      gap: 12px;\n",
              "    }\n",
              "\n",
              "    .colab-df-convert {\n",
              "      background-color: #E8F0FE;\n",
              "      border: none;\n",
              "      border-radius: 50%;\n",
              "      cursor: pointer;\n",
              "      display: none;\n",
              "      fill: #1967D2;\n",
              "      height: 32px;\n",
              "      padding: 0 0 0 0;\n",
              "      width: 32px;\n",
              "    }\n",
              "\n",
              "    .colab-df-convert:hover {\n",
              "      background-color: #E2EBFA;\n",
              "      box-shadow: 0px 1px 2px rgba(60, 64, 67, 0.3), 0px 1px 3px 1px rgba(60, 64, 67, 0.15);\n",
              "      fill: #174EA6;\n",
              "    }\n",
              "\n",
              "    .colab-df-buttons div {\n",
              "      margin-bottom: 4px;\n",
              "    }\n",
              "\n",
              "    [theme=dark] .colab-df-convert {\n",
              "      background-color: #3B4455;\n",
              "      fill: #D2E3FC;\n",
              "    }\n",
              "\n",
              "    [theme=dark] .colab-df-convert:hover {\n",
              "      background-color: #434B5C;\n",
              "      box-shadow: 0px 1px 3px 1px rgba(0, 0, 0, 0.15);\n",
              "      filter: drop-shadow(0px 1px 2px rgba(0, 0, 0, 0.3));\n",
              "      fill: #FFFFFF;\n",
              "    }\n",
              "  </style>\n",
              "\n",
              "    <script>\n",
              "      const buttonEl =\n",
              "        document.querySelector('#df-18ed9999-521a-412a-af8b-687d3b216c7d button.colab-df-convert');\n",
              "      buttonEl.style.display =\n",
              "        google.colab.kernel.accessAllowed ? 'block' : 'none';\n",
              "\n",
              "      async function convertToInteractive(key) {\n",
              "        const element = document.querySelector('#df-18ed9999-521a-412a-af8b-687d3b216c7d');\n",
              "        const dataTable =\n",
              "          await google.colab.kernel.invokeFunction('convertToInteractive',\n",
              "                                                    [key], {});\n",
              "        if (!dataTable) return;\n",
              "\n",
              "        const docLinkHtml = 'Like what you see? Visit the ' +\n",
              "          '<a target=\"_blank\" href=https://colab.research.google.com/notebooks/data_table.ipynb>data table notebook</a>'\n",
              "          + ' to learn more about interactive tables.';\n",
              "        element.innerHTML = '';\n",
              "        dataTable['output_type'] = 'display_data';\n",
              "        await google.colab.output.renderOutput(dataTable, element);\n",
              "        const docLink = document.createElement('div');\n",
              "        docLink.innerHTML = docLinkHtml;\n",
              "        element.appendChild(docLink);\n",
              "      }\n",
              "    </script>\n",
              "  </div>\n",
              "\n",
              "\n",
              "<div id=\"df-b7b8fbc1-9595-451e-b9f8-f225ce68a37d\">\n",
              "  <button class=\"colab-df-quickchart\" onclick=\"quickchart('df-b7b8fbc1-9595-451e-b9f8-f225ce68a37d')\"\n",
              "            title=\"Suggest charts.\"\n",
              "            style=\"display:none;\">\n",
              "\n",
              "<svg xmlns=\"http://www.w3.org/2000/svg\" height=\"24px\"viewBox=\"0 0 24 24\"\n",
              "     width=\"24px\">\n",
              "    <g>\n",
              "        <path d=\"M19 3H5c-1.1 0-2 .9-2 2v14c0 1.1.9 2 2 2h14c1.1 0 2-.9 2-2V5c0-1.1-.9-2-2-2zM9 17H7v-7h2v7zm4 0h-2V7h2v10zm4 0h-2v-4h2v4z\"/>\n",
              "    </g>\n",
              "</svg>\n",
              "  </button>\n",
              "\n",
              "<style>\n",
              "  .colab-df-quickchart {\n",
              "    background-color: #E8F0FE;\n",
              "    border: none;\n",
              "    border-radius: 50%;\n",
              "    cursor: pointer;\n",
              "    display: none;\n",
              "    fill: #1967D2;\n",
              "    height: 32px;\n",
              "    padding: 0 0 0 0;\n",
              "    width: 32px;\n",
              "  }\n",
              "\n",
              "  .colab-df-quickchart:hover {\n",
              "    background-color: #E2EBFA;\n",
              "    box-shadow: 0px 1px 2px rgba(60, 64, 67, 0.3), 0px 1px 3px 1px rgba(60, 64, 67, 0.15);\n",
              "    fill: #174EA6;\n",
              "  }\n",
              "\n",
              "  [theme=dark] .colab-df-quickchart {\n",
              "    background-color: #3B4455;\n",
              "    fill: #D2E3FC;\n",
              "  }\n",
              "\n",
              "  [theme=dark] .colab-df-quickchart:hover {\n",
              "    background-color: #434B5C;\n",
              "    box-shadow: 0px 1px 3px 1px rgba(0, 0, 0, 0.15);\n",
              "    filter: drop-shadow(0px 1px 2px rgba(0, 0, 0, 0.3));\n",
              "    fill: #FFFFFF;\n",
              "  }\n",
              "</style>\n",
              "\n",
              "  <script>\n",
              "    async function quickchart(key) {\n",
              "      const charts = await google.colab.kernel.invokeFunction(\n",
              "          'suggestCharts', [key], {});\n",
              "    }\n",
              "    (() => {\n",
              "      let quickchartButtonEl =\n",
              "        document.querySelector('#df-b7b8fbc1-9595-451e-b9f8-f225ce68a37d button');\n",
              "      quickchartButtonEl.style.display =\n",
              "        google.colab.kernel.accessAllowed ? 'block' : 'none';\n",
              "    })();\n",
              "  </script>\n",
              "</div>\n",
              "    </div>\n",
              "  </div>\n"
            ]
          },
          "metadata": {},
          "execution_count": 33
        }
      ],
      "source": [
        "### BEGIN SOLUTION\n",
        "pd.DataFrame(zip(X.columns, lr2.coef_)).sort_values(by=1)\n",
        "### END SOLUTION"
      ]
    },
    {
      "cell_type": "markdown",
      "metadata": {
        "id": "8ZBYMoI_y45U"
      },
      "source": [
        "Looking just at the strength of the standardized coefficients LSTAT, DIS, RM and RAD are all the 'most impactful'. Sklearn does not have built in statistical significance of each of these variables which would aid in making this claim stronger/weaker\n"
      ]
    },
    {
      "cell_type": "markdown",
      "metadata": {
        "id": "QoI9KGzpy45U"
      },
      "source": [
        "### Lasso with and without scaling\n"
      ]
    },
    {
      "cell_type": "markdown",
      "metadata": {
        "id": "zNMwcG5Hy45V"
      },
      "source": [
        "We discussed Lasso in lecture.\n",
        "\n",
        "Let's review together:\n",
        "\n",
        "1.  What is different about Lasso vs. regular Linear Regression?\n",
        "2.  Is standardization more or less important with Lasso vs. Linear Regression? Why?\n"
      ]
    },
    {
      "cell_type": "code",
      "execution_count": 34,
      "metadata": {
        "id": "UsbA0OWmy45V"
      },
      "outputs": [],
      "source": [
        "from sklearn.linear_model import Lasso\n",
        "from sklearn.preprocessing import PolynomialFeatures"
      ]
    },
    {
      "cell_type": "markdown",
      "metadata": {
        "id": "a85l0u_dy45V"
      },
      "source": [
        "#### Create polynomial features\n"
      ]
    },
    {
      "cell_type": "markdown",
      "metadata": {
        "id": "wlr72ICjy45W"
      },
      "source": [
        "[`PolynomialFeatures`](http://scikit-learn.org/stable/modules/generated/sklearn.preprocessing.PolynomialFeatures.html?utm_medium=Exinfluencer&utm_source=Exinfluencer&utm_content=000026UJ&utm_term=10006555&utm_id=NA-SkillsNetwork-Channel-SkillsNetworkCoursesIBMML240ENSkillsNetwork34171862-2022-01-01)\n"
      ]
    },
    {
      "cell_type": "code",
      "execution_count": 35,
      "metadata": {
        "id": "cBcG4DbCy45W"
      },
      "outputs": [],
      "source": [
        "pf = PolynomialFeatures(degree=2, include_bias=False,)\n",
        "X_pf = pf.fit_transform(X)"
      ]
    },
    {
      "cell_type": "markdown",
      "metadata": {
        "id": "RQwMqHTOy45W"
      },
      "source": [
        "**Note:** We use `include_bias=False` since `Lasso` includes a bias by default.\n"
      ]
    },
    {
      "cell_type": "code",
      "execution_count": 36,
      "metadata": {
        "id": "cF1jbEMxy45W"
      },
      "outputs": [],
      "source": [
        "X_pf_ss = s.fit_transform(X_pf)"
      ]
    },
    {
      "cell_type": "markdown",
      "metadata": {
        "id": "cVYROmHLy45W"
      },
      "source": [
        "### Lasso\n"
      ]
    },
    {
      "cell_type": "markdown",
      "metadata": {
        "id": "GkH_bXdqy45W"
      },
      "source": [
        "[`Lasso` documentation](http://scikit-learn.org/stable/modules/generated/sklearn.linear_model.Lasso.html?utm_medium=Exinfluencer&utm_source=Exinfluencer&utm_content=000026UJ&utm_term=10006555&utm_id=NA-SkillsNetwork-Channel-SkillsNetworkCoursesIBMML240ENSkillsNetwork34171862-2022-01-01)\n"
      ]
    },
    {
      "cell_type": "code",
      "execution_count": 37,
      "metadata": {
        "colab": {
          "base_uri": "https://localhost:8080/"
        },
        "id": "n6Kg3XYwy45X",
        "outputId": "0202600b-c4b6-4dd9-caac-e1074f84dbc2"
      },
      "outputs": [
        {
          "output_type": "execute_result",
          "data": {
            "text/plain": [
              "array([-0.   ,  0.   , -0.   ,  0.   , -0.   ,  0.   , -0.   , -0.   ,\n",
              "       -0.   , -0.   , -0.991,  0.   , -0.   , -0.   ,  0.   , -0.   ,\n",
              "        0.068, -0.   , -0.   , -0.   , -0.   , -0.   , -0.   , -0.   ,\n",
              "       -0.   , -0.   ,  0.   ,  0.   ,  0.   ,  0.   ,  0.   ,  0.   ,\n",
              "        0.   ,  0.   ,  0.   ,  0.   ,  0.   ,  0.   , -0.   ,  0.   ,\n",
              "       -0.   , -0.   , -0.   , -0.05 , -0.   , -0.   , -0.   , -0.   ,\n",
              "       -0.   ,  0.   ,  0.   ,  0.   ,  0.   ,  0.   ,  0.   ,  0.   ,\n",
              "        0.   ,  0.   ,  0.   , -0.   , -0.   , -0.   , -0.   , -0.   ,\n",
              "       -0.   , -0.   ,  0.   , -0.   ,  3.3  , -0.   , -0.   , -0.   ,\n",
              "       -0.   , -0.   ,  0.42 , -3.498, -0.   , -0.   , -0.   , -0.   ,\n",
              "       -0.   ,  0.   , -0.   , -0.   , -0.   , -0.146, -0.   , -0.   ,\n",
              "       -0.   , -0.   , -0.   , -0.   , -0.   , -0.   , -0.   , -0.   ,\n",
              "       -0.   , -0.   , -0.   ,  0.   , -0.   ,  0.   , -0.   , -0.   ])"
            ]
          },
          "metadata": {},
          "execution_count": 37
        }
      ],
      "source": [
        "las = Lasso()\n",
        "las.fit(X_pf_ss, y)\n",
        "las.coef_"
      ]
    },
    {
      "cell_type": "markdown",
      "metadata": {
        "id": "Rl1ZA8isy45X"
      },
      "source": [
        "### Exercise\n",
        "\n",
        "Compare\n",
        "\n",
        "*   Sum of magnitudes of the coefficients\n",
        "*   Number of coefficients that are zero\n",
        "\n",
        "for Lasso with alpha 0.1 vs. 1.\n",
        "\n",
        "Before doing the exercise, answer the following questions in one sentence each:\n",
        "\n",
        "*   Which do you expect to have greater magnitude?\n",
        "*   Which do you expect to have more zeros?\n"
      ]
    },
    {
      "cell_type": "code",
      "execution_count": 38,
      "metadata": {
        "colab": {
          "base_uri": "https://localhost:8080/"
        },
        "id": "80Q3WF9ay45X",
        "outputId": "1c83d825-9d75-4e35-f6f9-98d24469fc6f"
      },
      "outputs": [
        {
          "output_type": "stream",
          "name": "stdout",
          "text": [
            "sum of coefficients: 26.138682362877965\n",
            "number of coefficients not equal to 0: 23\n"
          ]
        }
      ],
      "source": [
        "### BEGIN SOLUTION\n",
        "las01 = Lasso(alpha = 0.1)\n",
        "las01.fit(X_pf_ss, y)\n",
        "print('sum of coefficients:', abs(las01.coef_).sum() )\n",
        "print('number of coefficients not equal to 0:', (las01.coef_!=0).sum())"
      ]
    },
    {
      "cell_type": "code",
      "execution_count": 39,
      "metadata": {
        "colab": {
          "base_uri": "https://localhost:8080/"
        },
        "id": "BIX5iSmDy45X",
        "outputId": "538731dd-b181-4796-88f5-1e22f6518f2b"
      },
      "outputs": [
        {
          "output_type": "stream",
          "name": "stdout",
          "text": [
            "sum of coefficients: 8.47240504455307\n",
            "number of coefficients not equal to 0: 7\n"
          ]
        }
      ],
      "source": [
        "las1 = Lasso(alpha = 1)\n",
        "las1.fit(X_pf_ss, y)\n",
        "print('sum of coefficients:',abs(las1.coef_).sum() )\n",
        "print('number of coefficients not equal to 0:',(las1.coef_!=0).sum())\n",
        "### END SOLUTION"
      ]
    },
    {
      "cell_type": "markdown",
      "metadata": {
        "id": "01d-3hZ2y45Y"
      },
      "source": [
        "With more regularization (higher alpha) we will expect the penalty for higher weights to be greater and thus the coefficients to be pushed down. Thus a higher alpha means lower magnitude with more coefficients pushed down to 0.\n"
      ]
    },
    {
      "cell_type": "markdown",
      "metadata": {
        "id": "lw6LQSIEy45Y"
      },
      "source": [
        "### Exercise: $R^2$\n"
      ]
    },
    {
      "cell_type": "markdown",
      "metadata": {
        "id": "0fH8_puHy45Y"
      },
      "source": [
        "Calculate the $R^2$ of each model without train/test split.\n",
        "\n",
        "Recall that we import $R^2$ using:\n",
        "\n",
        "```python\n",
        "from sklearn.metrics import r2_score\n",
        "```\n"
      ]
    },
    {
      "cell_type": "code",
      "execution_count": 40,
      "metadata": {
        "colab": {
          "base_uri": "https://localhost:8080/"
        },
        "id": "XigD1rlky45Y",
        "outputId": "4f69e18f-4ca8-46c1-a42a-e3fd8778b955"
      },
      "outputs": [
        {
          "output_type": "execute_result",
          "data": {
            "text/plain": [
              "0.7207000417838496"
            ]
          },
          "metadata": {},
          "execution_count": 40
        }
      ],
      "source": [
        "### BEGIN SOLUTION\n",
        "from sklearn.metrics import r2_score\n",
        "r2_score(y,las.predict(X_pf_ss))\n",
        "### END SOLUTION"
      ]
    },
    {
      "cell_type": "markdown",
      "metadata": {
        "id": "eVG4io_hy45Z"
      },
      "source": [
        "#### Discuss:\n",
        "\n",
        "Will regularization ever increase model performance if we evaluate on the same dataset that we trained on?\n"
      ]
    },
    {
      "cell_type": "markdown",
      "metadata": {
        "id": "Fyspxpgmy45Z"
      },
      "source": [
        "## With train/test split\n"
      ]
    },
    {
      "cell_type": "markdown",
      "metadata": {
        "id": "-PGlL9luy45Z"
      },
      "source": [
        "#### Discuss\n",
        "\n",
        "Are there any issues with what we've done so far?\n",
        "\n",
        "**Hint:** Think about the way we have done feature scaling.\n",
        "\n",
        "Discuss in groups of two or three.\n"
      ]
    },
    {
      "cell_type": "code",
      "execution_count": 41,
      "metadata": {
        "id": "H3kMaCb7y45Z"
      },
      "outputs": [],
      "source": [
        "from sklearn.model_selection import train_test_split"
      ]
    },
    {
      "cell_type": "code",
      "execution_count": 42,
      "metadata": {
        "id": "BKqk1ZjZy45Z"
      },
      "outputs": [],
      "source": [
        "X_train, X_test, y_train, y_test = train_test_split(X_pf, y, test_size=0.3,\n",
        "                                                    random_state=72018)"
      ]
    },
    {
      "cell_type": "code",
      "execution_count": 43,
      "metadata": {
        "colab": {
          "base_uri": "https://localhost:8080/"
        },
        "id": "HyqwAfkHy45a",
        "outputId": "84f4edd2-be4d-4a6c-fd2d-f83c42166722"
      },
      "outputs": [
        {
          "output_type": "execute_result",
          "data": {
            "text/plain": [
              "0.33177406838134416"
            ]
          },
          "metadata": {},
          "execution_count": 43
        }
      ],
      "source": [
        "X_train_s = s.fit_transform(X_train)\n",
        "las.fit(X_train_s, y_train)\n",
        "X_test_s = s.transform(X_test)\n",
        "y_pred = las.predict(X_test_s)\n",
        "r2_score(y_pred, y_test)"
      ]
    },
    {
      "cell_type": "code",
      "execution_count": 44,
      "metadata": {
        "colab": {
          "base_uri": "https://localhost:8080/"
        },
        "id": "wtDWU35iy45a",
        "outputId": "f080d691-097e-49b9-aa5f-55b6a8c7520e"
      },
      "outputs": [
        {
          "output_type": "execute_result",
          "data": {
            "text/plain": [
              "0.7102444090776476"
            ]
          },
          "metadata": {},
          "execution_count": 44
        }
      ],
      "source": [
        "X_train_s = s.fit_transform(X_train)\n",
        "las01.fit(X_train_s, y_train)\n",
        "X_test_s = s.transform(X_test)\n",
        "y_pred = las01.predict(X_test_s)\n",
        "r2_score(y_pred, y_test)"
      ]
    },
    {
      "cell_type": "markdown",
      "metadata": {
        "id": "L-0Os7sdy45a"
      },
      "source": [
        "### Exercise\n",
        "\n",
        "#### Part 1:\n",
        "\n",
        "Do the same thing with Lasso of:\n",
        "\n",
        "*   `alpha` of 0.001\n",
        "*   Increase `max_iter` to 100000 to ensure convergence.\n",
        "\n",
        "Calculate the $R^2$ of the model.\n",
        "\n",
        "Feel free to copy-paste code from above, but write a one sentence comment above each line of code explaining why you're doing what you're doing.\n",
        "\n",
        "#### Part 2:\n",
        "\n",
        "Do the same procedure as before, but with Linear Regression.\n",
        "\n",
        "Calculate the $R^2$ of this model.\n",
        "\n",
        "#### Part 3:\n",
        "\n",
        "Compare the sums of the absolute values of the coefficients for both models, as well as the number of coefficients that are zero. Based on these measures, which model is a \"simpler\" description of the relationship between the features and the target?\n"
      ]
    },
    {
      "cell_type": "code",
      "execution_count": 45,
      "metadata": {
        "colab": {
          "base_uri": "https://localhost:8080/"
        },
        "id": "oYEzKv27y45b",
        "outputId": "42373a8b-5f8a-405f-d86c-4d7536b8466f"
      },
      "outputs": [
        {
          "output_type": "stream",
          "name": "stdout",
          "text": [
            "r2 score for alpha = 0.001: 0.8686454101886707\n",
            "r2 score for Linear Regression: 0.8555202098064141\n",
            "Magnitude of Lasso coefficients: 436.26164263065647\n",
            "Number of coeffients not equal to 0 for Lasso: 89\n",
            "Magnitude of Linear Regression coefficients: 1185.2858254468583\n",
            "Number of coeffients not equal to 0 for Linear Regression: 104\n"
          ]
        }
      ],
      "source": [
        "### BEGIN SOLUTION\n",
        "\n",
        "# Part 1\n",
        "\n",
        "# Decreasing regularization and ensuring convergence\n",
        "las001 = Lasso(alpha = 0.001, max_iter=100000)\n",
        "\n",
        "# Transforming training set to get standardized units\n",
        "X_train_s = s.fit_transform(X_train)\n",
        "\n",
        "# Fitting model to training set\n",
        "las001.fit(X_train_s, y_train)\n",
        "\n",
        "# Transforming test set using the parameters defined from training set\n",
        "X_test_s = s.transform(X_test)\n",
        "\n",
        "# Finding prediction on test set\n",
        "y_pred = las001.predict(X_test_s)\n",
        "\n",
        "# Calculating r2 score\n",
        "print(\"r2 score for alpha = 0.001:\", r2_score(y_pred, y_test))\n",
        "\n",
        "\n",
        "# Part 2\n",
        "\n",
        "# Using vanilla Linear Regression\n",
        "lr = LinearRegression()\n",
        "\n",
        "# Fitting model to training set\n",
        "lr.fit(X_train_s, y_train)\n",
        "\n",
        "# predicting on test set\n",
        "y_pred_lr = lr.predict(X_test_s)\n",
        "\n",
        "# Calculating r2 score\n",
        "print(\"r2 score for Linear Regression:\", r2_score(y_pred_lr, y_test))\n",
        "\n",
        "\n",
        "# Part 3\n",
        "print('Magnitude of Lasso coefficients:', abs(las001.coef_).sum())\n",
        "print('Number of coeffients not equal to 0 for Lasso:', (las001.coef_!=0).sum())\n",
        "\n",
        "print('Magnitude of Linear Regression coefficients:', abs(lr.coef_).sum())\n",
        "print('Number of coeffients not equal to 0 for Linear Regression:', (lr.coef_!=0).sum())\n",
        "### END SOLUTION"
      ]
    },
    {
      "cell_type": "markdown",
      "metadata": {
        "id": "ybjSqf85y45c"
      },
      "source": [
        "## L1 vs. L2 Regularization\n"
      ]
    },
    {
      "cell_type": "markdown",
      "metadata": {
        "id": "SKokb-Any45c"
      },
      "source": [
        "As mentioned in the deck: `Lasso` and `Ridge` regression have the same syntax in SciKit Learn.\n",
        "\n",
        "Now we're going to compare the results from Ridge vs. Lasso regression:\n"
      ]
    },
    {
      "cell_type": "markdown",
      "metadata": {
        "id": "q7Jpvy_yy45c"
      },
      "source": [
        "[`Ridge`](http://scikit-learn.org/stable/modules/generated/sklearn.linear_model.Ridge.html?utm_medium=Exinfluencer&utm_source=Exinfluencer&utm_content=000026UJ&utm_term=10006555&utm_id=NA-SkillsNetwork-Channel-SkillsNetworkCoursesIBMML240ENSkillsNetwork34171862-2022-01-01)\n"
      ]
    },
    {
      "cell_type": "code",
      "execution_count": 46,
      "metadata": {
        "id": "sfZ3e-yRy45c"
      },
      "outputs": [],
      "source": [
        "from sklearn.linear_model import Ridge"
      ]
    },
    {
      "cell_type": "markdown",
      "metadata": {
        "id": "ppHiME-Py45c"
      },
      "source": [
        "### Exercise\n",
        "\n",
        "Following the Ridge documentation from above:\n",
        "\n",
        "1.  Define a Ridge object `r` with the same `alpha` as `las001`.\n",
        "2.  Fit that object on `X` and `y` and print out the resulting coefficients.\n"
      ]
    },
    {
      "cell_type": "code",
      "execution_count": 47,
      "metadata": {
        "colab": {
          "base_uri": "https://localhost:8080/"
        },
        "id": "YdSbwIH2y45c",
        "outputId": "78f88cfa-ba53-46fe-cb7a-bdf50deb3270"
      },
      "outputs": [
        {
          "output_type": "execute_result",
          "data": {
            "text/plain": [
              "array([  8.727,  10.354, -24.683,   5.299,  -3.13 ,  14.781,  22.301,\n",
              "       -23.483,  27.356,  -1.512,  16.949,  22.531,  11.444,   1.055,\n",
              "         0.437,  14.259,   1.83 ,  -8.737,   4.726,  -3.748,  -3.557,\n",
              "       -16.521,  -6.918,   6.064,  -1.363,   4.604,  -1.303,  -0.057,\n",
              "        -0.301, -12.828,   2.016,   1.084,  -0.655,  -1.092,   4.458,\n",
              "        -4.247,   4.156,  -1.282,   8.71 ,  -0.285,  -8.595,  11.595,\n",
              "         6.544,   1.271,   1.827,   1.007,   1.554,   5.173,  -4.685,\n",
              "         5.299,  -3.199,  -8.715,   0.983,   1.119,   0.284,  -1.683,\n",
              "        -2.884,   2.985,  -0.756,  12.297,   0.931,  -7.594,  18.292,\n",
              "       -22.124,  35.725, -21.894,  -7.789,   1.774,   4.101, -12.263,\n",
              "        -3.741,  -5.525, -16.111,  -5.706,  -4.666,  -9.884,   0.989,\n",
              "        -0.092,  17.145, -14.214,  -2.955,  -2.785,  -5.404,  11.825,\n",
              "         0.085,  -4.352,  -5.616,  -2.843,   0.826, -29.129,  49.636,\n",
              "       -21.571,  -1.263,  -8.811, -15.822,  11.975,  -1.023,   2.911,\n",
              "        -0.656,  -4.955,   2.817,  -2.463,  -2.381,   1.686])"
            ]
          },
          "metadata": {},
          "execution_count": 47
        }
      ],
      "source": [
        "### BEGIN SOLUTION\n",
        "# Decreasing regularization and ensuring convergence\n",
        "r = Ridge(alpha = 0.001)\n",
        "X_train_s = s.fit_transform(X_train)\n",
        "r.fit(X_train_s, y_train)\n",
        "X_test_s = s.transform(X_test)\n",
        "y_pred_r = r.predict(X_test_s)\n",
        "\n",
        "# Calculating r2 score\n",
        "r.coef_\n",
        "### END SOLUTION"
      ]
    },
    {
      "cell_type": "code",
      "execution_count": 48,
      "metadata": {
        "scrolled": true,
        "colab": {
          "base_uri": "https://localhost:8080/",
          "height": 74
        },
        "id": "rJFm8OtXy45c",
        "outputId": "a8d18b12-e570-4344-c2c7-1511fccf1e81"
      },
      "outputs": [
        {
          "output_type": "execute_result",
          "data": {
            "text/plain": [
              "Lasso(alpha=0.001, max_iter=100000)"
            ],
            "text/html": [
              "<style>#sk-container-id-1 {color: black;background-color: white;}#sk-container-id-1 pre{padding: 0;}#sk-container-id-1 div.sk-toggleable {background-color: white;}#sk-container-id-1 label.sk-toggleable__label {cursor: pointer;display: block;width: 100%;margin-bottom: 0;padding: 0.3em;box-sizing: border-box;text-align: center;}#sk-container-id-1 label.sk-toggleable__label-arrow:before {content: \"▸\";float: left;margin-right: 0.25em;color: #696969;}#sk-container-id-1 label.sk-toggleable__label-arrow:hover:before {color: black;}#sk-container-id-1 div.sk-estimator:hover label.sk-toggleable__label-arrow:before {color: black;}#sk-container-id-1 div.sk-toggleable__content {max-height: 0;max-width: 0;overflow: hidden;text-align: left;background-color: #f0f8ff;}#sk-container-id-1 div.sk-toggleable__content pre {margin: 0.2em;color: black;border-radius: 0.25em;background-color: #f0f8ff;}#sk-container-id-1 input.sk-toggleable__control:checked~div.sk-toggleable__content {max-height: 200px;max-width: 100%;overflow: auto;}#sk-container-id-1 input.sk-toggleable__control:checked~label.sk-toggleable__label-arrow:before {content: \"▾\";}#sk-container-id-1 div.sk-estimator input.sk-toggleable__control:checked~label.sk-toggleable__label {background-color: #d4ebff;}#sk-container-id-1 div.sk-label input.sk-toggleable__control:checked~label.sk-toggleable__label {background-color: #d4ebff;}#sk-container-id-1 input.sk-hidden--visually {border: 0;clip: rect(1px 1px 1px 1px);clip: rect(1px, 1px, 1px, 1px);height: 1px;margin: -1px;overflow: hidden;padding: 0;position: absolute;width: 1px;}#sk-container-id-1 div.sk-estimator {font-family: monospace;background-color: #f0f8ff;border: 1px dotted black;border-radius: 0.25em;box-sizing: border-box;margin-bottom: 0.5em;}#sk-container-id-1 div.sk-estimator:hover {background-color: #d4ebff;}#sk-container-id-1 div.sk-parallel-item::after {content: \"\";width: 100%;border-bottom: 1px solid gray;flex-grow: 1;}#sk-container-id-1 div.sk-label:hover label.sk-toggleable__label {background-color: #d4ebff;}#sk-container-id-1 div.sk-serial::before {content: \"\";position: absolute;border-left: 1px solid gray;box-sizing: border-box;top: 0;bottom: 0;left: 50%;z-index: 0;}#sk-container-id-1 div.sk-serial {display: flex;flex-direction: column;align-items: center;background-color: white;padding-right: 0.2em;padding-left: 0.2em;position: relative;}#sk-container-id-1 div.sk-item {position: relative;z-index: 1;}#sk-container-id-1 div.sk-parallel {display: flex;align-items: stretch;justify-content: center;background-color: white;position: relative;}#sk-container-id-1 div.sk-item::before, #sk-container-id-1 div.sk-parallel-item::before {content: \"\";position: absolute;border-left: 1px solid gray;box-sizing: border-box;top: 0;bottom: 0;left: 50%;z-index: -1;}#sk-container-id-1 div.sk-parallel-item {display: flex;flex-direction: column;z-index: 1;position: relative;background-color: white;}#sk-container-id-1 div.sk-parallel-item:first-child::after {align-self: flex-end;width: 50%;}#sk-container-id-1 div.sk-parallel-item:last-child::after {align-self: flex-start;width: 50%;}#sk-container-id-1 div.sk-parallel-item:only-child::after {width: 0;}#sk-container-id-1 div.sk-dashed-wrapped {border: 1px dashed gray;margin: 0 0.4em 0.5em 0.4em;box-sizing: border-box;padding-bottom: 0.4em;background-color: white;}#sk-container-id-1 div.sk-label label {font-family: monospace;font-weight: bold;display: inline-block;line-height: 1.2em;}#sk-container-id-1 div.sk-label-container {text-align: center;}#sk-container-id-1 div.sk-container {/* jupyter's `normalize.less` sets `[hidden] { display: none; }` but bootstrap.min.css set `[hidden] { display: none !important; }` so we also need the `!important` here to be able to override the default hidden behavior on the sphinx rendered scikit-learn.org. See: https://github.com/scikit-learn/scikit-learn/issues/21755 */display: inline-block !important;position: relative;}#sk-container-id-1 div.sk-text-repr-fallback {display: none;}</style><div id=\"sk-container-id-1\" class=\"sk-top-container\"><div class=\"sk-text-repr-fallback\"><pre>Lasso(alpha=0.001, max_iter=100000)</pre><b>In a Jupyter environment, please rerun this cell to show the HTML representation or trust the notebook. <br />On GitHub, the HTML representation is unable to render, please try loading this page with nbviewer.org.</b></div><div class=\"sk-container\" hidden><div class=\"sk-item\"><div class=\"sk-estimator sk-toggleable\"><input class=\"sk-toggleable__control sk-hidden--visually\" id=\"sk-estimator-id-1\" type=\"checkbox\" checked><label for=\"sk-estimator-id-1\" class=\"sk-toggleable__label sk-toggleable__label-arrow\">Lasso</label><div class=\"sk-toggleable__content\"><pre>Lasso(alpha=0.001, max_iter=100000)</pre></div></div></div></div></div>"
            ]
          },
          "metadata": {},
          "execution_count": 48
        }
      ],
      "source": [
        "las001 # same alpha as Ridge above"
      ]
    },
    {
      "cell_type": "code",
      "execution_count": 49,
      "metadata": {
        "colab": {
          "base_uri": "https://localhost:8080/"
        },
        "id": "J_SRZFBBy45c",
        "outputId": "28997516-9b28-4b0f-c017-acbc3060dcc1"
      },
      "outputs": [
        {
          "output_type": "execute_result",
          "data": {
            "text/plain": [
              "array([  0.   ,   0.   , -16.945,   2.562,   0.   ,  13.392,   9.907,\n",
              "       -19.96 ,   9.039,   0.   ,   6.138,  17.628,  11.446,   1.21 ,\n",
              "         0.226,  11.578,   2.197,  -7.397,   4.117,  -1.589,  -2.157,\n",
              "        -9.837,   0.   ,   0.   ,  -1.089,   3.793,   0.389,   0.2  ,\n",
              "        -0.297,  -3.352,   0.396,   0.719,  -0.756,  -0.753,   2.388,\n",
              "        -0.845,   2.524,  -0.973,   3.882,  -0.983,   6.609,   6.138,\n",
              "         4.201,   0.858,   1.96 ,   2.661,  -4.148,   2.937,  -4.556,\n",
              "         2.112,  -1.983,  -7.439,   1.607,   1.668,  -1.262,  -0.   ,\n",
              "        -0.   ,   2.622,  -0.861,   3.353,  -0.   ,  -2.451,   9.171,\n",
              "        -6.917,   0.   ,  -5.618,  -5.716,   0.521,   3.354,  -7.528,\n",
              "        -0.   ,  -6.646, -10.212,  -6.346,  -2.95 ,  -9.559,   0.327,\n",
              "         0.56 ,  11.006,  -6.666,  -1.158,  -2.25 ,  -3.53 ,   9.035,\n",
              "        -0.   ,  -2.316,  -2.   ,  -1.124,   0.804, -20.861,  27.166,\n",
              "         0.   ,  -1.51 ,  -6.745,  -5.098,  15.455,   0.   ,   0.   ,\n",
              "         0.629,  -3.959,   2.502,  -2.499,  -2.23 ,   2.201])"
            ]
          },
          "metadata": {},
          "execution_count": 49
        }
      ],
      "source": [
        "las001.coef_"
      ]
    },
    {
      "cell_type": "code",
      "execution_count": 50,
      "metadata": {
        "colab": {
          "base_uri": "https://localhost:8080/"
        },
        "id": "niYwgeAYy45d",
        "outputId": "891d2052-2903-4813-8c15-6db796401e7a"
      },
      "outputs": [
        {
          "output_type": "stream",
          "name": "stdout",
          "text": [
            "795.6521694362104\n",
            "436.26164263065647\n",
            "104\n",
            "89\n"
          ]
        }
      ],
      "source": [
        "print(np.sum(np.abs(r.coef_)))\n",
        "print(np.sum(np.abs(las001.coef_)))\n",
        "\n",
        "print(np.sum(r.coef_ != 0))\n",
        "print(np.sum(las001.coef_ != 0))"
      ]
    },
    {
      "cell_type": "markdown",
      "metadata": {
        "id": "08XJEeP8y45d"
      },
      "source": [
        "**Conclusion:** Ridge does not make any coefficients 0. In addition, on this particular dataset, Lasso provides stronger overall regularization than Ridge for this value of `alpha` (not necessarily true in general).\n"
      ]
    },
    {
      "cell_type": "code",
      "execution_count": 51,
      "metadata": {
        "colab": {
          "base_uri": "https://localhost:8080/"
        },
        "id": "HHauSzXgy45d",
        "outputId": "b1529022-67ab-41bd-8bcc-6d0435b9e4d6"
      },
      "outputs": [
        {
          "output_type": "stream",
          "name": "stdout",
          "text": [
            "0.9075278340574429\n",
            "0.9102933722688235\n"
          ]
        }
      ],
      "source": [
        "y_pred = r.predict(X_pf_ss)\n",
        "print(r2_score(y, y_pred))\n",
        "\n",
        "y_pred = las001.predict(X_pf_ss)\n",
        "print(r2_score(y, y_pred))"
      ]
    },
    {
      "cell_type": "markdown",
      "metadata": {
        "id": "gbIsn1y-y45d"
      },
      "source": [
        "**Conclusion**: Ignoring issues of overfitting, Ridge does slightly better than Lasso when `alpha` is set to 0.001 for each (not necessarily true in general).\n"
      ]
    },
    {
      "cell_type": "markdown",
      "metadata": {
        "id": "vjWRz3nLy45d"
      },
      "source": [
        "# Example: Does it matter when you scale?\n"
      ]
    },
    {
      "cell_type": "code",
      "execution_count": null,
      "metadata": {
        "id": "hdkv7Sqzy45f"
      },
      "outputs": [],
      "source": [
        "X_train, X_test, y_train, y_test = train_test_split(X_ss, y, test_size=0.3,\n",
        "                                                    random_state=72018)"
      ]
    },
    {
      "cell_type": "code",
      "execution_count": null,
      "metadata": {
        "id": "Zpkeh21Ry45f"
      },
      "outputs": [],
      "source": [
        "lr = LinearRegression()\n",
        "lr.fit(X_train, y_train)\n",
        "y_pred = lr.predict(X_test)\n",
        "r2_score(y_pred, y_test)"
      ]
    },
    {
      "cell_type": "code",
      "execution_count": null,
      "metadata": {
        "id": "V8SnsDvYy45f"
      },
      "outputs": [],
      "source": [
        "X_train, X_test, y_train, y_test = train_test_split(X, y, test_size=0.3,\n",
        "                                                    random_state=72018)"
      ]
    },
    {
      "cell_type": "code",
      "execution_count": 52,
      "metadata": {
        "colab": {
          "base_uri": "https://localhost:8080/"
        },
        "id": "dHRq0J9by45f",
        "outputId": "b8d24e1f-d5ee-455a-bc5c-cfc5b9467528"
      },
      "outputs": [
        {
          "output_type": "execute_result",
          "data": {
            "text/plain": [
              "0.8555202098064141"
            ]
          },
          "metadata": {},
          "execution_count": 52
        }
      ],
      "source": [
        "s = StandardScaler()\n",
        "lr_s = LinearRegression()\n",
        "X_train_s = s.fit_transform(X_train)\n",
        "lr_s.fit(X_train_s, y_train)\n",
        "X_test_s = s.transform(X_test)\n",
        "y_pred_s = lr_s.predict(X_test_s)\n",
        "r2_score(y_pred_s, y_test)"
      ]
    },
    {
      "cell_type": "markdown",
      "metadata": {
        "id": "8Ht2hnSSy45f"
      },
      "source": [
        "**Conclusion:** It doesn't matter whether you scale before or afterwards, in terms of the raw predictions, for Linear Regression. However, it matters for other algorithms. Plus, as we'll see later, we can make scaling part of a `Pipeline`.\n"
      ]
    },
    {
      "cell_type": "markdown",
      "metadata": {
        "id": "cLiuuVnIy45f"
      },
      "source": [
        "***\n",
        "\n",
        "### Machine Learning Foundation (C) 2020 IBM Corporation\n"
      ]
    }
  ],
  "metadata": {
    "kernelspec": {
      "display_name": "Python",
      "language": "python",
      "name": "conda-env-python-py"
    },
    "language_info": {
      "name": ""
    },
    "colab": {
      "provenance": []
    }
  },
  "nbformat": 4,
  "nbformat_minor": 0
}